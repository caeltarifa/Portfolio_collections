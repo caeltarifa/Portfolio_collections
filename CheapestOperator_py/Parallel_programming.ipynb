{
 "nbformat": 4,
 "nbformat_minor": 0,
 "metadata": {
  "colab": {
   "provenance": [],
   "authorship_tag": "ABX9TyO3eNlf6ZxfhSE5uaz62uVl"
  },
  "kernelspec": {
   "name": "python3",
   "display_name": "Python 3"
  },
  "language_info": {
   "name": "python"
  }
 },
 "cells": [
  {
   "cell_type": "markdown",
   "source": [
    "# Parallel programming code"
   ],
   "metadata": {
    "id": "bffjCOCZG7SI"
   }
  },
  {
   "cell_type": "code",
   "source": [
    "!pip install pyspark"
   ],
   "metadata": {
    "colab": {
     "base_uri": "https://localhost:8080/"
    },
    "id": "0h80jQbIvU9m",
    "outputId": "06554391-5124-48bd-dcb1-6c0c23be71d7"
   },
   "execution_count": null,
   "outputs": [
    {
     "output_type": "stream",
     "name": "stdout",
     "text": [
      "Looking in indexes: https://pypi.org/simple, https://us-python.pkg.dev/colab-wheels/public/simple/\n",
      "Collecting pyspark\n",
      "  Downloading pyspark-3.3.2.tar.gz (281.4 MB)\n",
      "\u001B[2K     \u001B[90m━━━━━━━━━━━━━━━━━━━━━━━━━━━━━━━━━━━━━━━\u001B[0m \u001B[32m281.4/281.4 MB\u001B[0m \u001B[31m5.5 MB/s\u001B[0m eta \u001B[36m0:00:00\u001B[0m\n",
      "\u001B[?25h  Preparing metadata (setup.py) ... \u001B[?25l\u001B[?25hdone\n",
      "Collecting py4j==0.10.9.5\n",
      "  Downloading py4j-0.10.9.5-py2.py3-none-any.whl (199 kB)\n",
      "\u001B[2K     \u001B[90m━━━━━━━━━━━━━━━━━━━━━━━━━━━━━━━━━━━━━━\u001B[0m \u001B[32m199.7/199.7 KB\u001B[0m \u001B[31m26.2 MB/s\u001B[0m eta \u001B[36m0:00:00\u001B[0m\n",
      "\u001B[?25hBuilding wheels for collected packages: pyspark\n",
      "  Building wheel for pyspark (setup.py) ... \u001B[?25l\u001B[?25hdone\n",
      "  Created wheel for pyspark: filename=pyspark-3.3.2-py2.py3-none-any.whl size=281824025 sha256=7a2c77ee69f59e652aa09ccc5abe04d13dc12c73798ed3689cf1a7afb537bdf4\n",
      "  Stored in directory: /root/.cache/pip/wheels/b1/59/a0/a1a0624b5e865fd389919c1a10f53aec9b12195d6747710baf\n",
      "Successfully built pyspark\n",
      "Installing collected packages: py4j, pyspark\n",
      "Successfully installed py4j-0.10.9.5 pyspark-3.3.2\n"
     ]
    }
   ]
  },
  {
   "cell_type": "code",
   "source": [
    "# Press Shift+F10 to execute it or replace it with your code.\n",
    "# Press Double Shift to search everywhere for classes, files, tool windows, actions, and settings.\n",
    "from pyspark import SparkContext"
   ],
   "metadata": {
    "id": "lNHN62WsvFJq"
   },
   "execution_count": null,
   "outputs": []
  },
  {
   "cell_type": "code",
   "execution_count": null,
   "outputs": [],
   "source": [
    "class CheapestOperator():\n",
    "\n",
    "  def __init__(self, number:str, sc: SparkContext):\n",
    "    self.number= number\n",
    "    self.sc = sc\n",
    "\n",
    "  def setup_dataset(self, operators_url:dict):\n",
    "    # create a dictionary to store the prices for each prefix and operator\n",
    "    self.prefix_prices_op = {}\n",
    "\n",
    "    # load the price lists as RDDs\n",
    "    for operator, url in operators_url.items():\n",
    "        operator_data_file = self.sc.textFile(url).map(lambda line: line.split() + [operator])\n",
    "        if not self.prefix_prices_op:\n",
    "          for prefix, price, operator in operator_data_file.collect():\n",
    "            self.prefix_prices_op[prefix] = (float(price),operator)\n",
    "        else:\n",
    "          self.update_prefix_prices(operator_data_file)\n",
    "\n",
    "  # update prefix_prices_op with operator B (taking new prefixes and skiping duplicates, with the goal of keeping only the cheapest values)\n",
    "  def update_prefix_prices(self, operator_data_file):\n",
    "    for prefix, price, operator in operator_data_file.collect():\n",
    "        if prefix in self.prefix_prices_op:\n",
    "          if (self.prefix_prices_op[prefix][0] > float(price)):\n",
    "            min_price = float(price)\n",
    "            self.prefix_prices_op[prefix] = (min_price, operator)\n",
    "        else:\n",
    "          self.prefix_prices_op[prefix] = (float(price), operator)\n",
    "\n",
    "  # define a function to find the cheapest operator for a given telephone number which has longest prefix\n",
    "  def cheapest_operator(self):\n",
    "      cheapest_price = float('inf')\n",
    "      cheapest_operator = None\n",
    "      longest_prefix = 0\n",
    "      for prefix in self.prefix_prices_op.keys():\n",
    "          if self.number.startswith(prefix):\n",
    "            if len(prefix) >= longest_prefix:\n",
    "              longest_prefix = len(prefix)\n",
    "              cheapest_price = self.prefix_prices_op[prefix][0] # Get price\n",
    "              cheapest_operator = self.prefix_prices_op[prefix][1] #Get operator\n",
    "\n",
    "      if cheapest_operator is not None:\n",
    "        return cheapest_operator, cheapest_price\n",
    "      else:\n",
    "        return \"No operator found for this number\""
   ],
   "metadata": {
    "collapsed": false
   }
  },
  {
   "cell_type": "code",
   "execution_count": null,
   "outputs": [],
   "source": [
    "# Press the green button in the gutter to run the script.\n",
    "if __name__ == '__main__':\n",
    "  # create a SparkContext\n",
    "  sc = SparkContext(\"local\", \"CheapestOperator\")\n",
    "\n",
    "  # test the function\n",
    "  number = \"4673212345\"\n",
    "  operators_url = {\n",
    "      'OperatorA':'./op_a.txt',\n",
    "      'OperatorB':'./op_b.txt',\n",
    "      'OperatorC':'./op_c.txt',\n",
    "  }\n",
    "  obj = CheapestOperator(number, sc)\n",
    "  obj.setup_dataset(operators_url)\n",
    "  print(obj.cheapest_operator())  # prints Cheapest operator and its price \"Operator A 1.1\"\n",
    "\n",
    "  # stop the SparkContext\n",
    "  sc.stop()"
   ],
   "metadata": {
    "collapsed": false
   }
  },
  {
   "cell_type": "markdown",
   "source": [
    "# Test paralell programming code\n"
   ],
   "metadata": {
    "id": "gTQPAwgfu9Nv"
   }
  },
  {
   "cell_type": "code",
   "source": [
    "import unittest\n",
    "from pyspark import SparkContext"
   ],
   "metadata": {
    "id": "heNo8FWdvhD2"
   },
   "execution_count": null,
   "outputs": []
  },
  {
   "cell_type": "code",
   "source": [
    "class TestCheapestOperator(unittest.TestCase):\n",
    "\n",
    "    def setUp(self):\n",
    "        self.sc = SparkContext(\"local\", \"CheapestOperator\")\n",
    "        self.operators_url = {\n",
    "            'OperatorA':'./op_a.txt',\n",
    "            'OperatorB':'./op_b.txt',\n",
    "            'OperatorC':'./op_c.txt',\n",
    "        }\n",
    "    \n",
    "    def tearDown(self):\n",
    "        self.sc.stop()\n",
    "\n",
    "    def test_cheapest_operator(self):\n",
    "        number = \"4673212345\"\n",
    "        obj = CheapestOperator(number, self.sc)\n",
    "        obj.setup_dataset(self.operators_url)\n",
    "        self.assertEqual(obj.cheapest_operator(), ('OperatorA', 1.1))\n",
    "\n",
    "    def test_invalid_number(self):\n",
    "        number = \"987654321\"\n",
    "        obj = CheapestOperator(number, self.sc)\n",
    "        obj.setup_dataset(self.operators_url)\n",
    "        self.assertEqual(obj.cheapest_operator(), \"No operator found for this number\")\n",
    "\n",
    "    def test_operator_B_only(self):\n",
    "        number = \"123456789\"\n",
    "        obj = CheapestOperator(number, self.sc)\n",
    "        obj.setup_dataset({'OperatorB':'./op_b.txt'})\n",
    "        self.assertEqual(obj.cheapest_operator(), ('OperatorB', 0.92))\n",
    "\n",
    "    def test_logest_prefix(self):\n",
    "        number = \"4673210000\"\n",
    "        obj = CheapestOperator(number, self.sc)\n",
    "        obj.setup_dataset(self.operators_url)\n",
    "        self.assertEqual(obj.cheapest_operator(), ('OperatorA', 1.1))\n",
    "\n",
    "    def test_multiple_operators_same_price(self):\n",
    "        number = \"1234567890\"\n",
    "        obj = CheapestOperator(number, self.sc)\n",
    "        obj.setup_dataset(self.operators_url)\n",
    "        self.assertEqual(obj.cheapest_operator(), ('OperatorA', 0.9))\n",
    "\n",
    "    def test_single_operator_single_prefix(self):\n",
    "        number = \"123456789\"\n",
    "        obj = CheapestOperator(number, self.sc)\n",
    "        obj.setup_dataset({'OperatorA':'./op_a.txt'})\n",
    "        self.assertEqual(obj.cheapest_operator(), ('OperatorA', 0.9))\n",
    "\n",
    "    def test_single_operator_multiple_prefixes(self):\n",
    "        number = \"4692114455\"\n",
    "        obj = CheapestOperator(number, self.sc)\n",
    "        obj.setup_dataset({'OperatorA':'./op_a.txt'})\n",
    "        self.assertEqual(obj.cheapest_operator(), ('OperatorA', 0.17))\n",
    "\n",
    "    def test_same_price_different_operator(self):\n",
    "        number = \"2682114466\"\n",
    "        obj = CheapestOperator(number, self.sc)\n",
    "        obj.setup_dataset(self.operators_url)\n",
    "        self.assertEqual(obj.cheapest_operator(), ('OperatorA', 5.1))\n",
    "\n",
    "    def test_case_insensitive_dict(self):\n",
    "        number = \"4673212345\"\n",
    "        obj = CheapestOperator(number, self.sc)\n",
    "        obj.setup_dataset({'operatora':'./op_a.txt'})\n",
    "        self.assertEqual(obj.cheapest_operator(), ('operatora', 1.1))\n",
    "   \n",
    "\n",
    "if __name__ == '__main__':\n",
    "    unittest.main(argv=['first-arg-is-ignored'], exit=False)"
   ],
   "metadata": {
    "id": "-mYSaUEtvfS1",
    "colab": {
     "base_uri": "https://localhost:8080/"
    },
    "outputId": "20143f2b-2903-4042-88b7-454c4264594f"
   },
   "execution_count": null,
   "outputs": [
    {
     "output_type": "stream",
     "name": "stderr",
     "text": [
      ".........\n",
      "----------------------------------------------------------------------\n",
      "Ran 9 tests in 16.147s\n",
      "\n",
      "OK\n"
     ]
    }
   ]
  }
 ]
}
