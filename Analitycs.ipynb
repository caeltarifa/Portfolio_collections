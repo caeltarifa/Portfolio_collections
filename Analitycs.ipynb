{
  "nbformat": 4,
  "nbformat_minor": 0,
  "metadata": {
    "colab": {
      "provenance": [],
      "authorship_tag": "ABX9TyP+BnTZxWUVN3cOhw4ZfCuJ"
    },
    "kernelspec": {
      "name": "python3",
      "display_name": "Python 3"
    },
    "language_info": {
      "name": "python"
    }
  },
  "cells": [
    {
      "cell_type": "markdown",
      "source": [
        "# Big Data querying"
      ],
      "metadata": {
        "id": "bffjCOCZG7SI"
      }
    },
    {
      "cell_type": "code",
      "source": [
        "# Set up feedback system\n",
        "from learntools.core import binder\n",
        "binder.bind(globals())\n",
        "from learntools.sql_advanced.ex1 import *\n",
        "print(\"Setup Complete\")"
      ],
      "metadata": {
        "id": "A9x03l8sHEVX"
      },
      "execution_count": null,
      "outputs": []
    },
    {
      "cell_type": "code",
      "source": [
        "from google.cloud import bigquery\n",
        "\n",
        "# Create a \"Client\" object\n",
        "client = bigquery.Client()\n",
        "\n",
        "# Construct a reference to the \"stackoverflow\" dataset\n",
        "dataset_ref = client.dataset(\"stackoverflow\", project=\"bigquery-public-data\")\n",
        "\n",
        "# API request - fetch the dataset\n",
        "dataset = client.get_dataset(dataset_ref)\n",
        "\n",
        "# Construct a reference to the \"posts_questions\" table\n",
        "table_ref = dataset_ref.table(\"posts_questions\")\n",
        "\n",
        "# API request - fetch the table\n",
        "table = client.get_table(table_ref)\n",
        "\n",
        "# Preview the first five lines of the table\n",
        "client.list_rows(table, max_results=5).to_dataframe()"
      ],
      "metadata": {
        "id": "MnYklXLjHHeB"
      },
      "execution_count": null,
      "outputs": []
    },
    {
      "cell_type": "code",
      "source": [
        "# Construct a reference to the \"posts_answers\" table\n",
        "table_ref = dataset_ref.table(\"posts_answers\")\n",
        "\n",
        "# API request - fetch the table\n",
        "table = client.get_table(table_ref)\n",
        "\n",
        "# Preview the first five lines of the table\n",
        "client.list_rows(table, max_results=5).to_dataframe()"
      ],
      "metadata": {
        "id": "outGpH6BHLzf"
      },
      "execution_count": null,
      "outputs": []
    },
    {
      "cell_type": "code",
      "source": [
        "first_query = \"\"\"\n",
        "              SELECT q.id AS q_id,\n",
        "                  MIN(TIMESTAMP_DIFF(a.creation_date, q.creation_date, SECOND)) as time_to_answer\n",
        "              FROM `bigquery-public-data.stackoverflow.posts_questions` AS q\n",
        "                  INNER JOIN `bigquery-public-data.stackoverflow.posts_answers` AS a\n",
        "              ON q.id = a.parent_id\n",
        "              WHERE q.creation_date >= '2018-01-01' and q.creation_date < '2018-02-01'\n",
        "              GROUP BY q_id\n",
        "              ORDER BY time_to_answer DESC\n",
        "              \"\"\"\n",
        "\n",
        "first_result = client.query(first_query).result().to_dataframe()\n",
        "print(\"Percentage of answered questions: %s%%\" % \\\n",
        "      (sum(first_result[\"time_to_answer\"].notnull()) / len(first_result) * 100))\n",
        "print(\"Number of questions:\", len(first_result))\n",
        "first_result.head()"
      ],
      "metadata": {
        "id": "u6rrObMNHXR0"
      },
      "execution_count": null,
      "outputs": []
    },
    {
      "cell_type": "code",
      "source": [
        "# Your code here\n",
        "correct_query = \"\"\"\n",
        "                SELECT q.id AS q_id,\n",
        "                    MIN(TIMESTAMP_DIFF(a.creation_date, q.creation_date, SECOND)) as time_to_answer\n",
        "                FROM `bigquery-public-data.stackoverflow.posts_questions` AS q\n",
        "                LEFT JOIN `bigquery-public-data.stackoverflow.posts_answers` AS a\n",
        "                  ON q.id = a.parent_id\n",
        "                  WHERE q.creation_date >= '2018-01-01' and q.creation_date < '2018-02-01'\n",
        "                  GROUP BY q_id\n",
        "                  ORDER BY time_to_answer DESC\n",
        "                \"\"\"\n",
        "\n",
        "# Check your answer\n",
        "q_1.check()\n",
        "\n",
        "# Run the query, and return a pandas DataFrame\n",
        "correct_result = client.query(correct_query).result().to_dataframe()\n",
        "print(\"Percentage of answered questions: %s%%\" % \\\n",
        "      (sum(correct_result[\"time_to_answer\"].notnull()) / len(correct_result) * 100))\n",
        "print(\"Number of questions:\", len(correct_result))"
      ],
      "metadata": {
        "id": "U4NI8P8FHX4B"
      },
      "execution_count": null,
      "outputs": []
    }
  ]
}