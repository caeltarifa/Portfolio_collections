{
  "nbformat": 4,
  "nbformat_minor": 0,
  "metadata": {
    "colab": {
      "provenance": [],
      "authorship_tag": "ABX9TyP85Sitd5DbHvTv2rx4k0ue"
    },
    "kernelspec": {
      "name": "python3",
      "display_name": "Python 3"
    },
    "language_info": {
      "name": "python"
    }
  },
  "cells": [
    {
      "cell_type": "markdown",
      "source": [
        "# Parallel programming code"
      ],
      "metadata": {
        "id": "bffjCOCZG7SI"
      }
    },
    {
      "cell_type": "code",
      "source": [
        "!pip install pyspark"
      ],
      "metadata": {
        "colab": {
          "base_uri": "https://localhost:8080/"
        },
        "id": "0h80jQbIvU9m",
        "outputId": "6a28acf5-d617-4cd0-bcdf-789a8c268087"
      },
      "execution_count": 1,
      "outputs": [
        {
          "output_type": "stream",
          "name": "stdout",
          "text": [
            "Looking in indexes: https://pypi.org/simple, https://us-python.pkg.dev/colab-wheels/public/simple/\n",
            "Collecting pyspark\n",
            "  Downloading pyspark-3.3.2.tar.gz (281.4 MB)\n",
            "\u001b[2K     \u001b[90m━━━━━━━━━━━━━━━━━━━━━━━━━━━━━━━━━━━━━━━\u001b[0m \u001b[32m281.4/281.4 MB\u001b[0m \u001b[31m3.8 MB/s\u001b[0m eta \u001b[36m0:00:00\u001b[0m\n",
            "\u001b[?25h  Preparing metadata (setup.py) ... \u001b[?25l\u001b[?25hdone\n",
            "Collecting py4j==0.10.9.5\n",
            "  Downloading py4j-0.10.9.5-py2.py3-none-any.whl (199 kB)\n",
            "\u001b[2K     \u001b[90m━━━━━━━━━━━━━━━━━━━━━━━━━━━━━━━━━━━━━━\u001b[0m \u001b[32m199.7/199.7 KB\u001b[0m \u001b[31m18.5 MB/s\u001b[0m eta \u001b[36m0:00:00\u001b[0m\n",
            "\u001b[?25hBuilding wheels for collected packages: pyspark\n",
            "  Building wheel for pyspark (setup.py) ... \u001b[?25l\u001b[?25hdone\n",
            "  Created wheel for pyspark: filename=pyspark-3.3.2-py2.py3-none-any.whl size=281824025 sha256=49c90e8c3e118c8165662310f5a5b292cb8df16a26c3cea6f906538a2e7abb7c\n",
            "  Stored in directory: /root/.cache/pip/wheels/b1/59/a0/a1a0624b5e865fd389919c1a10f53aec9b12195d6747710baf\n",
            "Successfully built pyspark\n",
            "Installing collected packages: py4j, pyspark\n",
            "Successfully installed py4j-0.10.9.5 pyspark-3.3.2\n"
          ]
        }
      ]
    },
    {
      "cell_type": "code",
      "source": [
        "# Press Shift+F10 to execute it or replace it with your code.\n",
        "# Press Double Shift to search everywhere for classes, files, tool windows, actions, and settings.\n",
        "from pyspark import SparkContext"
      ],
      "metadata": {
        "id": "lNHN62WsvFJq"
      },
      "execution_count": 2,
      "outputs": []
    },
    {
      "cell_type": "code",
      "source": [
        "# Press the green button in the gutter to run the script.\n",
        "if __name__ == '__main__':\n",
        "    # create a SparkContext\n",
        "    sc = SparkContext(\"local\", \"CheapestOperator\")\n",
        "\n",
        "    # load the price lists as RDDs\n",
        "    operator_a = sc.textFile(\"./op_a.txt\").map(lambda line: line.split())\n",
        "    operator_b = sc.textFile(\"./op_b.txt\").map(lambda line: line.split())\n",
        "\n",
        "    # create a dictionary to store the prices for each prefix and operator\n",
        "    prefix_prices_op = {}\n",
        "\n",
        "    # add prefix_prices_op from operator A\n",
        "    for prefix, price in operator_a.collect():\n",
        "        prefix_prices_op[prefix] = (float(price),'operator A')\n",
        "\n",
        "    # update prefix_prices_op with operator B (taking new prefixes and skiping duplicates, with the goal of keeping only the cheapest values)\n",
        "    for prefix, price in operator_b.collect():\n",
        "        if prefix in prefix_prices_op:\n",
        "            min_price = min(prefix_prices_op[prefix][0], float(price)) \n",
        "            prefix_prices_op[prefix] = ( min_price, 'operator B')\n",
        "        else:\n",
        "            prefix_prices_op[prefix] = (float(price), 'operator B')\n",
        "\n",
        "    # define a function to find the cheapest operator for a given telephone number which has longest prefix\n",
        "    def cheapest_operator(number):\n",
        "        cheapest_price = float('inf')\n",
        "        cheapest_operator = None\n",
        "        longest_prefix = 0\n",
        "        for prefix in prefix_prices_op.keys():\n",
        "            if number.startswith(prefix):\n",
        "              if len(prefix) >= longest_prefix:\n",
        "                longest_prefix = len(prefix)\n",
        "                cheapest_price = prefix_prices_op[prefix][0] # Get price\n",
        "                cheapest_operator = prefix_prices_op[prefix][1] #Get operator\n",
        "              \n",
        "        return cheapest_operator, cheapest_price\n",
        "\n",
        "\n",
        "    # test the function\n",
        "    number = \"4673212345\"\n",
        "    print(cheapest_operator(number))  # prints Cheapest operator and its price \"Operator A 1.1\"\n",
        "\n",
        "    # stop the SparkContext\n",
        "    sc.stop()"
      ],
      "metadata": {
        "colab": {
          "base_uri": "https://localhost:8080/"
        },
        "id": "veVQ80JsvSA3",
        "outputId": "d8c8fb67-656d-4ff6-c022-559df143c907"
      },
      "execution_count": 3,
      "outputs": [
        {
          "output_type": "stream",
          "name": "stdout",
          "text": [
            "('operator A', 1.1)\n"
          ]
        }
      ]
    }
  ]
}