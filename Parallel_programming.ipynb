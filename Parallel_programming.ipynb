{
  "nbformat": 4,
  "nbformat_minor": 0,
  "metadata": {
    "colab": {
      "provenance": [],
      "authorship_tag": "ABX9TyMYiQFrhPs68D9377p8eDNk"
    },
    "kernelspec": {
      "name": "python3",
      "display_name": "Python 3"
    },
    "language_info": {
      "name": "python"
    }
  },
  "cells": [
    {
      "cell_type": "markdown",
      "source": [
        "# Parallel programming code"
      ],
      "metadata": {
        "id": "bffjCOCZG7SI"
      }
    },
    {
      "cell_type": "code",
      "source": [
        "!pip install pyspark"
      ],
      "metadata": {
        "colab": {
          "base_uri": "https://localhost:8080/"
        },
        "id": "0h80jQbIvU9m",
        "outputId": "662b2e92-0547-4fe3-e553-ec21abedfc42"
      },
      "execution_count": 1,
      "outputs": [
        {
          "output_type": "stream",
          "name": "stdout",
          "text": [
            "Looking in indexes: https://pypi.org/simple, https://us-python.pkg.dev/colab-wheels/public/simple/\n",
            "Collecting pyspark\n",
            "  Downloading pyspark-3.3.2.tar.gz (281.4 MB)\n",
            "\u001b[2K     \u001b[90m━━━━━━━━━━━━━━━━━━━━━━━━━━━━━━━━━━━━━━━\u001b[0m \u001b[32m281.4/281.4 MB\u001b[0m \u001b[31m3.6 MB/s\u001b[0m eta \u001b[36m0:00:00\u001b[0m\n",
            "\u001b[?25h  Preparing metadata (setup.py) ... \u001b[?25l\u001b[?25hdone\n",
            "Collecting py4j==0.10.9.5\n",
            "  Downloading py4j-0.10.9.5-py2.py3-none-any.whl (199 kB)\n",
            "\u001b[2K     \u001b[90m━━━━━━━━━━━━━━━━━━━━━━━━━━━━━━━━━━━━━━━\u001b[0m \u001b[32m199.7/199.7 KB\u001b[0m \u001b[31m2.1 MB/s\u001b[0m eta \u001b[36m0:00:00\u001b[0m\n",
            "\u001b[?25hBuilding wheels for collected packages: pyspark\n",
            "  Building wheel for pyspark (setup.py) ... \u001b[?25l\u001b[?25hdone\n",
            "  Created wheel for pyspark: filename=pyspark-3.3.2-py2.py3-none-any.whl size=281824025 sha256=5f8dfa8bff89a898f8ea14f94d46eea7d326a92d2b94699a5ea4fe7f1c77d3b8\n",
            "  Stored in directory: /root/.cache/pip/wheels/b1/59/a0/a1a0624b5e865fd389919c1a10f53aec9b12195d6747710baf\n",
            "Successfully built pyspark\n",
            "Installing collected packages: py4j, pyspark\n",
            "Successfully installed py4j-0.10.9.5 pyspark-3.3.2\n"
          ]
        }
      ]
    },
    {
      "cell_type": "code",
      "source": [
        "# Press Shift+F10 to execute it or replace it with your code.\n",
        "# Press Double Shift to search everywhere for classes, files, tool windows, actions, and settings.\n",
        "from pyspark import SparkContext"
      ],
      "metadata": {
        "id": "lNHN62WsvFJq"
      },
      "execution_count": 2,
      "outputs": []
    },
    {
      "cell_type": "code",
      "source": [
        "class CheapestOperator():\n",
        "  def __init__(self, number:str, sc: SparkContext):\n",
        "    self.number= number\n",
        "    self.sc = sc\n",
        "\n",
        "  def setup_dataset(self, operators_url:dict):\n",
        "    # create a dictionary to store the prices for each prefix and operator\n",
        "    self.prefix_prices_op = {}\n",
        "\n",
        "    # load the price lists as RDDs\n",
        "    for operator, url in operators_url.items():\n",
        "        operator_data_file = self.sc.textFile(url).map(lambda line: line.split() + [operator])\n",
        "        if bool(self.prefix_prices_op):  \n",
        "          for prefix, price, operator in operator_data_file.collect():\n",
        "            self.prefix_prices_op[prefix] = (float(price),operator)\n",
        "        else:\n",
        "          self.update_prefix_prices(operator_data_file)\n",
        "\n",
        "  # update prefix_prices_op with operator B (taking new prefixes and skiping duplicates, with the goal of keeping only the cheapest values)\n",
        "  def update_prefix_prices(self, operator_data_file):\n",
        "    for prefix, price, operator in operator_data_file.collect():\n",
        "        if prefix in self.prefix_prices_op:\n",
        "            min_price = min(self.prefix_prices_op[prefix][0], float(price)) \n",
        "            self.prefix_prices_op[prefix] = ( min_price, operator)\n",
        "        else:\n",
        "            self.prefix_prices_op[prefix] = (float(price), operator)\n",
        "\n",
        "  # define a function to find the cheapest operator for a given telephone number which has longest prefix\n",
        "  def cheapest_operator(self):\n",
        "      cheapest_price = float('inf')\n",
        "      cheapest_operator = None\n",
        "      longest_prefix = 0\n",
        "      for prefix in self.prefix_prices_op.keys():\n",
        "          if self.number.startswith(prefix):\n",
        "            if len(prefix) >= longest_prefix:\n",
        "              longest_prefix = len(prefix)\n",
        "              cheapest_price = self.prefix_prices_op[prefix][0] # Get price\n",
        "              cheapest_operator = self.prefix_prices_op[prefix][1] #Get operator\n",
        "            \n",
        "      if cheapest_operator is not None:\n",
        "        return cheapest_operator, cheapest_price\n",
        "      else:\n",
        "        return \"No operator found for this number\"\n",
        "\n",
        "# Press the green button in the gutter to run the script.\n",
        "if __name__ == '__main__':\n",
        "  # create a SparkContext\n",
        "  sc = SparkContext(\"local\", \"CheapestOperator\")\n",
        "\n",
        "  # test the function\n",
        "  number = \"4673212345\"\n",
        "  operators_url = {\n",
        "      'OperatorA':'./op_a.txt',\n",
        "      'OperatorB':'./op_b.txt',\n",
        "      'OperatorC':'./op_c.txt',\n",
        "  }\n",
        "  obj = CheapestOperator(number, sc)\n",
        "  obj.setup_dataset(operators_url)\n",
        "  print(obj.cheapest_operator())  # prints Cheapest operator and its price \"Operator A 1.1\"\n",
        "\n",
        "  # stop the SparkContext\n",
        "  sc.stop()"
      ],
      "metadata": {
        "colab": {
          "base_uri": "https://localhost:8080/"
        },
        "id": "zVLHw5VphG8X",
        "outputId": "8b0f979f-d447-480a-f294-694a1191bba0"
      },
      "execution_count": 4,
      "outputs": [
        {
          "output_type": "stream",
          "name": "stdout",
          "text": [
            "No operator found for this number\n"
          ]
        }
      ]
    }
  ]
}