{
  "nbformat": 4,
  "nbformat_minor": 0,
  "metadata": {
    "colab": {
      "provenance": [],
      "toc_visible": true,
      "authorship_tag": "ABX9TyPedmRzVZTILLuBsKcP9ufh"
    },
    "kernelspec": {
      "name": "python3",
      "display_name": "Python 3"
    },
    "language_info": {
      "name": "python"
    }
  },
  "cells": [
    {
      "cell_type": "markdown",
      "source": [
        "# Patter recognition over numbers"
      ],
      "metadata": {
        "id": "FtnbNNSpWX0-"
      }
    },
    {
      "cell_type": "code",
      "execution_count": null,
      "metadata": {
        "id": "ekqAW1LeWVFw"
      },
      "outputs": [],
      "source": [
        "from keras.datasets import mnist\n",
        "from keras.utils import to_categorical\n",
        "from keras.models import Sequential\n",
        "from keras.layers import Dense"
      ]
    },
    {
      "cell_type": "code",
      "source": [
        "# Load the MNIST dataset\n",
        "(x_train, y_train), (x_test, y_test) = mnist.load_data()"
      ],
      "metadata": {
        "colab": {
          "base_uri": "https://localhost:8080/"
        },
        "id": "191u9zvMWc7V",
        "outputId": "47241625-856a-40d8-af22-5f5a82e26d50"
      },
      "execution_count": null,
      "outputs": [
        {
          "output_type": "stream",
          "name": "stdout",
          "text": [
            "Downloading data from https://storage.googleapis.com/tensorflow/tf-keras-datasets/mnist.npz\n",
            "11490434/11490434 [==============================] - 1s 0us/step\n"
          ]
        }
      ]
    },
    {
      "cell_type": "code",
      "source": [
        "# Preprocess the data\n",
        "x_train = x_train.reshape(60000, 784)\n",
        "x_test = x_test.reshape(10000, 784)\n",
        "x_train = x_train.astype('float32')\n",
        "x_test = x_test.astype('float32')\n",
        "x_train /= 255\n",
        "x_test /= 255\n",
        "y_train = to_categorical(y_train, 10)\n",
        "y_test = to_categorical(y_test, 10)"
      ],
      "metadata": {
        "id": "Gnyd8c0LWgLz"
      },
      "execution_count": null,
      "outputs": []
    },
    {
      "cell_type": "code",
      "source": [
        "# Define the model architecture\n",
        "model = Sequential()\n",
        "model.add(Dense(512, activation='relu', input_shape=(784,)))\n",
        "model.add(Dense(10, activation='softmax'))"
      ],
      "metadata": {
        "id": "nhE0An2mWjFE"
      },
      "execution_count": null,
      "outputs": []
    },
    {
      "cell_type": "code",
      "source": [
        "# Compile the model\n",
        "model.compile(optimizer='rmsprop', loss='categorical_crossentropy', metrics=['accuracy'])"
      ],
      "metadata": {
        "id": "aUPTLnidWljs"
      },
      "execution_count": null,
      "outputs": []
    },
    {
      "cell_type": "code",
      "source": [
        "# Train the model\n",
        "model.fit(x_train, y_train, batch_size=128, epochs=10, verbose=1, validation_data=(x_test, y_test))"
      ],
      "metadata": {
        "colab": {
          "base_uri": "https://localhost:8080/"
        },
        "id": "kYGcfBYzWoB6",
        "outputId": "8dfcca59-bd0e-43ce-d654-70a862b3e89d"
      },
      "execution_count": null,
      "outputs": [
        {
          "output_type": "stream",
          "name": "stdout",
          "text": [
            "Epoch 1/10\n",
            "469/469 [==============================] - 15s 28ms/step - loss: 0.2582 - accuracy: 0.9254 - val_loss: 0.1256 - val_accuracy: 0.9620\n",
            "Epoch 2/10\n",
            "469/469 [==============================] - 5s 11ms/step - loss: 0.1048 - accuracy: 0.9689 - val_loss: 0.0985 - val_accuracy: 0.9692\n",
            "Epoch 3/10\n",
            "469/469 [==============================] - 5s 10ms/step - loss: 0.0687 - accuracy: 0.9794 - val_loss: 0.0775 - val_accuracy: 0.9768\n",
            "Epoch 4/10\n",
            "469/469 [==============================] - 5s 10ms/step - loss: 0.0499 - accuracy: 0.9848 - val_loss: 0.0707 - val_accuracy: 0.9784\n",
            "Epoch 5/10\n",
            "469/469 [==============================] - 4s 10ms/step - loss: 0.0369 - accuracy: 0.9891 - val_loss: 0.0673 - val_accuracy: 0.9789\n",
            "Epoch 6/10\n",
            "469/469 [==============================] - 4s 9ms/step - loss: 0.0284 - accuracy: 0.9919 - val_loss: 0.0637 - val_accuracy: 0.9825\n",
            "Epoch 7/10\n",
            "469/469 [==============================] - 4s 10ms/step - loss: 0.0220 - accuracy: 0.9935 - val_loss: 0.0616 - val_accuracy: 0.9826\n",
            "Epoch 8/10\n",
            "469/469 [==============================] - 5s 10ms/step - loss: 0.0165 - accuracy: 0.9953 - val_loss: 0.0755 - val_accuracy: 0.9800\n",
            "Epoch 9/10\n",
            "469/469 [==============================] - 4s 10ms/step - loss: 0.0129 - accuracy: 0.9964 - val_loss: 0.0721 - val_accuracy: 0.9809\n",
            "Epoch 10/10\n",
            "469/469 [==============================] - 5s 10ms/step - loss: 0.0096 - accuracy: 0.9973 - val_loss: 0.0654 - val_accuracy: 0.9813\n"
          ]
        },
        {
          "output_type": "execute_result",
          "data": {
            "text/plain": [
              "<keras.callbacks.History at 0x7fa9d5342100>"
            ]
          },
          "metadata": {},
          "execution_count": 6
        }
      ]
    },
    {
      "cell_type": "code",
      "source": [
        "# Evaluate the model\n",
        "score = model.evaluate(x_test, y_test, verbose=0)\n",
        "print('Test loss:', score[0])\n",
        "print('Test accuracy:', score[1])"
      ],
      "metadata": {
        "colab": {
          "base_uri": "https://localhost:8080/"
        },
        "id": "E_qz-BRlWp6U",
        "outputId": "1eccf31c-8308-48f7-d1e5-5e24aefe4c5e"
      },
      "execution_count": null,
      "outputs": [
        {
          "output_type": "stream",
          "name": "stdout",
          "text": [
            "Test loss: 0.06537145376205444\n",
            "Test accuracy: 0.9812999963760376\n"
          ]
        }
      ]
    }
  ]
}